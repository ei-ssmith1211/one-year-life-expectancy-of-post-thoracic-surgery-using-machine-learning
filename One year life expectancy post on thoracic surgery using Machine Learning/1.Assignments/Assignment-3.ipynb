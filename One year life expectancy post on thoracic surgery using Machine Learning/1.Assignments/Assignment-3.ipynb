{
 "cells": [
  {
   "cell_type": "code",
   "execution_count": 1,
   "id": "fe72e38f-21de-4652-8feb-526a247bd846",
   "metadata": {},
   "outputs": [],
   "source": [
    "import pandas as pd\n",
    "import numpy as np\n",
    "import sklearn\n",
    "from sklearn.model_selection import train_test_split\n",
    "from sklearn.linear_model import LogisticRegression\n",
    "import matplotlib.pyplot as plt\n",
    "from sklearn.preprocessing import StandardScaler\n",
    "from sklearn.ensemble import RandomForestClassifier, GradientBoostingClassifier\n",
    "from sklearn.tree import DecisionTreeClassifier\n",
    "from sklearn.neighbors import KNeighborsClassifier\n",
    "from sklearn.metrics import classification_report, confusion_matrix\n",
    "from sklearn.model_selection import cross_val_score\n",
    "import itertools\n",
    "import seaborn as sns"
   ]
  },
  {
   "cell_type": "code",
   "execution_count": 2,
   "id": "19740e7b-469b-45c7-ae44-0fec9a58d1db",
   "metadata": {},
   "outputs": [
    {
     "data": {
      "text/html": [
       "<div>\n",
       "<style scoped>\n",
       "    .dataframe tbody tr th:only-of-type {\n",
       "        vertical-align: middle;\n",
       "    }\n",
       "\n",
       "    .dataframe tbody tr th {\n",
       "        vertical-align: top;\n",
       "    }\n",
       "\n",
       "    .dataframe thead th {\n",
       "        text-align: right;\n",
       "    }\n",
       "</style>\n",
       "<table border=\"1\" class=\"dataframe\">\n",
       "  <thead>\n",
       "    <tr style=\"text-align: right;\">\n",
       "      <th></th>\n",
       "      <th>Diagnosis</th>\n",
       "      <th>FVC</th>\n",
       "      <th>FEV1</th>\n",
       "      <th>Performance</th>\n",
       "      <th>Pain</th>\n",
       "      <th>Haemoptysis</th>\n",
       "      <th>Dyspnoea</th>\n",
       "      <th>Cough</th>\n",
       "      <th>Weakness</th>\n",
       "      <th>Tumor_Size</th>\n",
       "      <th>Diabetes_Mellitus</th>\n",
       "      <th>MI_6mo</th>\n",
       "      <th>PAD</th>\n",
       "      <th>Smoking</th>\n",
       "      <th>Asthma</th>\n",
       "      <th>Age</th>\n",
       "      <th>Death_1yr</th>\n",
       "    </tr>\n",
       "  </thead>\n",
       "  <tbody>\n",
       "    <tr>\n",
       "      <th>0</th>\n",
       "      <td>2</td>\n",
       "      <td>2.88</td>\n",
       "      <td>2.16</td>\n",
       "      <td>1</td>\n",
       "      <td>0</td>\n",
       "      <td>0</td>\n",
       "      <td>0</td>\n",
       "      <td>1</td>\n",
       "      <td>1</td>\n",
       "      <td>4</td>\n",
       "      <td>0</td>\n",
       "      <td>0</td>\n",
       "      <td>0</td>\n",
       "      <td>1</td>\n",
       "      <td>0</td>\n",
       "      <td>60</td>\n",
       "      <td>0</td>\n",
       "    </tr>\n",
       "    <tr>\n",
       "      <th>1</th>\n",
       "      <td>3</td>\n",
       "      <td>3.40</td>\n",
       "      <td>1.88</td>\n",
       "      <td>0</td>\n",
       "      <td>0</td>\n",
       "      <td>0</td>\n",
       "      <td>0</td>\n",
       "      <td>0</td>\n",
       "      <td>0</td>\n",
       "      <td>2</td>\n",
       "      <td>0</td>\n",
       "      <td>0</td>\n",
       "      <td>0</td>\n",
       "      <td>1</td>\n",
       "      <td>0</td>\n",
       "      <td>51</td>\n",
       "      <td>0</td>\n",
       "    </tr>\n",
       "    <tr>\n",
       "      <th>2</th>\n",
       "      <td>3</td>\n",
       "      <td>2.76</td>\n",
       "      <td>2.08</td>\n",
       "      <td>1</td>\n",
       "      <td>0</td>\n",
       "      <td>0</td>\n",
       "      <td>0</td>\n",
       "      <td>1</td>\n",
       "      <td>0</td>\n",
       "      <td>1</td>\n",
       "      <td>0</td>\n",
       "      <td>0</td>\n",
       "      <td>0</td>\n",
       "      <td>1</td>\n",
       "      <td>0</td>\n",
       "      <td>59</td>\n",
       "      <td>0</td>\n",
       "    </tr>\n",
       "    <tr>\n",
       "      <th>3</th>\n",
       "      <td>3</td>\n",
       "      <td>3.68</td>\n",
       "      <td>3.04</td>\n",
       "      <td>0</td>\n",
       "      <td>0</td>\n",
       "      <td>0</td>\n",
       "      <td>0</td>\n",
       "      <td>0</td>\n",
       "      <td>0</td>\n",
       "      <td>1</td>\n",
       "      <td>0</td>\n",
       "      <td>0</td>\n",
       "      <td>0</td>\n",
       "      <td>0</td>\n",
       "      <td>0</td>\n",
       "      <td>54</td>\n",
       "      <td>0</td>\n",
       "    </tr>\n",
       "    <tr>\n",
       "      <th>4</th>\n",
       "      <td>3</td>\n",
       "      <td>2.44</td>\n",
       "      <td>0.96</td>\n",
       "      <td>2</td>\n",
       "      <td>0</td>\n",
       "      <td>1</td>\n",
       "      <td>0</td>\n",
       "      <td>1</td>\n",
       "      <td>1</td>\n",
       "      <td>1</td>\n",
       "      <td>0</td>\n",
       "      <td>0</td>\n",
       "      <td>0</td>\n",
       "      <td>1</td>\n",
       "      <td>0</td>\n",
       "      <td>73</td>\n",
       "      <td>1</td>\n",
       "    </tr>\n",
       "  </tbody>\n",
       "</table>\n",
       "</div>"
      ],
      "text/plain": [
       "   Diagnosis   FVC  FEV1  Performance  Pain  Haemoptysis  Dyspnoea  Cough  \\\n",
       "0          2  2.88  2.16            1     0            0         0      1   \n",
       "1          3  3.40  1.88            0     0            0         0      0   \n",
       "2          3  2.76  2.08            1     0            0         0      1   \n",
       "3          3  3.68  3.04            0     0            0         0      0   \n",
       "4          3  2.44  0.96            2     0            1         0      1   \n",
       "\n",
       "   Weakness  Tumor_Size  Diabetes_Mellitus  MI_6mo  PAD  Smoking  Asthma  Age  \\\n",
       "0         1           4                  0       0    0        1       0   60   \n",
       "1         0           2                  0       0    0        1       0   51   \n",
       "2         0           1                  0       0    0        1       0   59   \n",
       "3         0           1                  0       0    0        0       0   54   \n",
       "4         1           1                  0       0    0        1       0   73   \n",
       "\n",
       "   Death_1yr  \n",
       "0          0  \n",
       "1          0  \n",
       "2          0  \n",
       "3          0  \n",
       "4          1  "
      ]
     },
     "execution_count": 2,
     "metadata": {},
     "output_type": "execute_result"
    }
   ],
   "source": [
    "# assume df is your dataframe\n",
    "df=pd.read_csv(r'F:\\one year life expentancy on thoracic surgery\\data set\\projectdata set.csv')\n",
    "\n",
    "df.head()"
   ]
  },
  {
   "cell_type": "code",
   "execution_count": 3,
   "id": "5ec49f3a-7b34-43b1-94b4-ac25f05e8990",
   "metadata": {},
   "outputs": [
    {
     "data": {
      "text/plain": [
       "Index(['Diagnosis', 'FVC', 'FEV1', 'Performance', 'Pain', 'Haemoptysis',\n",
       "       'Dyspnoea', 'Cough', 'Weakness', 'Tumor_Size', 'Diabetes_Mellitus',\n",
       "       'MI_6mo', 'PAD', 'Smoking', 'Asthma', 'Age', 'Death_1yr'],\n",
       "      dtype='object')"
      ]
     },
     "execution_count": 3,
     "metadata": {},
     "output_type": "execute_result"
    }
   ],
   "source": [
    "df.columns"
   ]
  },
  {
   "cell_type": "code",
   "execution_count": 4,
   "id": "31151c55-2295-4ad1-80f5-bb79d9c5b255",
   "metadata": {},
   "outputs": [
    {
     "data": {
      "text/html": [
       "<div>\n",
       "<style scoped>\n",
       "    .dataframe tbody tr th:only-of-type {\n",
       "        vertical-align: middle;\n",
       "    }\n",
       "\n",
       "    .dataframe tbody tr th {\n",
       "        vertical-align: top;\n",
       "    }\n",
       "\n",
       "    .dataframe thead th {\n",
       "        text-align: right;\n",
       "    }\n",
       "</style>\n",
       "<table border=\"1\" class=\"dataframe\">\n",
       "  <thead>\n",
       "    <tr style=\"text-align: right;\">\n",
       "      <th></th>\n",
       "      <th>Diagnosis</th>\n",
       "      <th>FVC</th>\n",
       "      <th>FEV1</th>\n",
       "      <th>Performance</th>\n",
       "      <th>Pain</th>\n",
       "      <th>Haemoptysis</th>\n",
       "      <th>Dyspnoea</th>\n",
       "      <th>Cough</th>\n",
       "      <th>Weakness</th>\n",
       "      <th>Tumor_Size</th>\n",
       "      <th>Diabetes_Mellitus</th>\n",
       "      <th>MI_6mo</th>\n",
       "      <th>PAD</th>\n",
       "      <th>Smoking</th>\n",
       "      <th>Asthma</th>\n",
       "      <th>Age</th>\n",
       "      <th>Death_1yr</th>\n",
       "    </tr>\n",
       "  </thead>\n",
       "  <tbody>\n",
       "    <tr>\n",
       "      <th>count</th>\n",
       "      <td>454.000000</td>\n",
       "      <td>454.000000</td>\n",
       "      <td>454.00000</td>\n",
       "      <td>454.000000</td>\n",
       "      <td>454.000000</td>\n",
       "      <td>454.000000</td>\n",
       "      <td>454.000000</td>\n",
       "      <td>454.000000</td>\n",
       "      <td>454.000000</td>\n",
       "      <td>454.000000</td>\n",
       "      <td>454.000000</td>\n",
       "      <td>454.000000</td>\n",
       "      <td>454.000000</td>\n",
       "      <td>454.000000</td>\n",
       "      <td>454.000000</td>\n",
       "      <td>454.000000</td>\n",
       "      <td>454.000000</td>\n",
       "    </tr>\n",
       "    <tr>\n",
       "      <th>mean</th>\n",
       "      <td>3.092511</td>\n",
       "      <td>3.287952</td>\n",
       "      <td>2.51685</td>\n",
       "      <td>0.795154</td>\n",
       "      <td>0.059471</td>\n",
       "      <td>0.136564</td>\n",
       "      <td>0.055066</td>\n",
       "      <td>0.696035</td>\n",
       "      <td>0.171806</td>\n",
       "      <td>1.733480</td>\n",
       "      <td>0.074890</td>\n",
       "      <td>0.004405</td>\n",
       "      <td>0.017621</td>\n",
       "      <td>0.828194</td>\n",
       "      <td>0.004405</td>\n",
       "      <td>62.777533</td>\n",
       "      <td>0.151982</td>\n",
       "    </tr>\n",
       "    <tr>\n",
       "      <th>std</th>\n",
       "      <td>0.715817</td>\n",
       "      <td>0.872347</td>\n",
       "      <td>0.77189</td>\n",
       "      <td>0.531459</td>\n",
       "      <td>0.236766</td>\n",
       "      <td>0.343765</td>\n",
       "      <td>0.228361</td>\n",
       "      <td>0.460475</td>\n",
       "      <td>0.377628</td>\n",
       "      <td>0.707499</td>\n",
       "      <td>0.263504</td>\n",
       "      <td>0.066299</td>\n",
       "      <td>0.131715</td>\n",
       "      <td>0.377628</td>\n",
       "      <td>0.066299</td>\n",
       "      <td>8.449634</td>\n",
       "      <td>0.359400</td>\n",
       "    </tr>\n",
       "    <tr>\n",
       "      <th>min</th>\n",
       "      <td>1.000000</td>\n",
       "      <td>1.440000</td>\n",
       "      <td>0.96000</td>\n",
       "      <td>0.000000</td>\n",
       "      <td>0.000000</td>\n",
       "      <td>0.000000</td>\n",
       "      <td>0.000000</td>\n",
       "      <td>0.000000</td>\n",
       "      <td>0.000000</td>\n",
       "      <td>1.000000</td>\n",
       "      <td>0.000000</td>\n",
       "      <td>0.000000</td>\n",
       "      <td>0.000000</td>\n",
       "      <td>0.000000</td>\n",
       "      <td>0.000000</td>\n",
       "      <td>37.000000</td>\n",
       "      <td>0.000000</td>\n",
       "    </tr>\n",
       "    <tr>\n",
       "      <th>25%</th>\n",
       "      <td>3.000000</td>\n",
       "      <td>2.600000</td>\n",
       "      <td>1.96000</td>\n",
       "      <td>0.000000</td>\n",
       "      <td>0.000000</td>\n",
       "      <td>0.000000</td>\n",
       "      <td>0.000000</td>\n",
       "      <td>0.000000</td>\n",
       "      <td>0.000000</td>\n",
       "      <td>1.000000</td>\n",
       "      <td>0.000000</td>\n",
       "      <td>0.000000</td>\n",
       "      <td>0.000000</td>\n",
       "      <td>1.000000</td>\n",
       "      <td>0.000000</td>\n",
       "      <td>57.000000</td>\n",
       "      <td>0.000000</td>\n",
       "    </tr>\n",
       "    <tr>\n",
       "      <th>50%</th>\n",
       "      <td>3.000000</td>\n",
       "      <td>3.160000</td>\n",
       "      <td>2.36000</td>\n",
       "      <td>1.000000</td>\n",
       "      <td>0.000000</td>\n",
       "      <td>0.000000</td>\n",
       "      <td>0.000000</td>\n",
       "      <td>1.000000</td>\n",
       "      <td>0.000000</td>\n",
       "      <td>2.000000</td>\n",
       "      <td>0.000000</td>\n",
       "      <td>0.000000</td>\n",
       "      <td>0.000000</td>\n",
       "      <td>1.000000</td>\n",
       "      <td>0.000000</td>\n",
       "      <td>62.000000</td>\n",
       "      <td>0.000000</td>\n",
       "    </tr>\n",
       "    <tr>\n",
       "      <th>75%</th>\n",
       "      <td>3.000000</td>\n",
       "      <td>3.840000</td>\n",
       "      <td>2.97750</td>\n",
       "      <td>1.000000</td>\n",
       "      <td>0.000000</td>\n",
       "      <td>0.000000</td>\n",
       "      <td>0.000000</td>\n",
       "      <td>1.000000</td>\n",
       "      <td>0.000000</td>\n",
       "      <td>2.000000</td>\n",
       "      <td>0.000000</td>\n",
       "      <td>0.000000</td>\n",
       "      <td>0.000000</td>\n",
       "      <td>1.000000</td>\n",
       "      <td>0.000000</td>\n",
       "      <td>69.000000</td>\n",
       "      <td>0.000000</td>\n",
       "    </tr>\n",
       "    <tr>\n",
       "      <th>max</th>\n",
       "      <td>8.000000</td>\n",
       "      <td>6.300000</td>\n",
       "      <td>5.48000</td>\n",
       "      <td>2.000000</td>\n",
       "      <td>1.000000</td>\n",
       "      <td>1.000000</td>\n",
       "      <td>1.000000</td>\n",
       "      <td>1.000000</td>\n",
       "      <td>1.000000</td>\n",
       "      <td>4.000000</td>\n",
       "      <td>1.000000</td>\n",
       "      <td>1.000000</td>\n",
       "      <td>1.000000</td>\n",
       "      <td>1.000000</td>\n",
       "      <td>1.000000</td>\n",
       "      <td>87.000000</td>\n",
       "      <td>1.000000</td>\n",
       "    </tr>\n",
       "  </tbody>\n",
       "</table>\n",
       "</div>"
      ],
      "text/plain": [
       "        Diagnosis         FVC       FEV1  Performance        Pain  \\\n",
       "count  454.000000  454.000000  454.00000   454.000000  454.000000   \n",
       "mean     3.092511    3.287952    2.51685     0.795154    0.059471   \n",
       "std      0.715817    0.872347    0.77189     0.531459    0.236766   \n",
       "min      1.000000    1.440000    0.96000     0.000000    0.000000   \n",
       "25%      3.000000    2.600000    1.96000     0.000000    0.000000   \n",
       "50%      3.000000    3.160000    2.36000     1.000000    0.000000   \n",
       "75%      3.000000    3.840000    2.97750     1.000000    0.000000   \n",
       "max      8.000000    6.300000    5.48000     2.000000    1.000000   \n",
       "\n",
       "       Haemoptysis    Dyspnoea       Cough    Weakness  Tumor_Size  \\\n",
       "count   454.000000  454.000000  454.000000  454.000000  454.000000   \n",
       "mean      0.136564    0.055066    0.696035    0.171806    1.733480   \n",
       "std       0.343765    0.228361    0.460475    0.377628    0.707499   \n",
       "min       0.000000    0.000000    0.000000    0.000000    1.000000   \n",
       "25%       0.000000    0.000000    0.000000    0.000000    1.000000   \n",
       "50%       0.000000    0.000000    1.000000    0.000000    2.000000   \n",
       "75%       0.000000    0.000000    1.000000    0.000000    2.000000   \n",
       "max       1.000000    1.000000    1.000000    1.000000    4.000000   \n",
       "\n",
       "       Diabetes_Mellitus      MI_6mo         PAD     Smoking      Asthma  \\\n",
       "count         454.000000  454.000000  454.000000  454.000000  454.000000   \n",
       "mean            0.074890    0.004405    0.017621    0.828194    0.004405   \n",
       "std             0.263504    0.066299    0.131715    0.377628    0.066299   \n",
       "min             0.000000    0.000000    0.000000    0.000000    0.000000   \n",
       "25%             0.000000    0.000000    0.000000    1.000000    0.000000   \n",
       "50%             0.000000    0.000000    0.000000    1.000000    0.000000   \n",
       "75%             0.000000    0.000000    0.000000    1.000000    0.000000   \n",
       "max             1.000000    1.000000    1.000000    1.000000    1.000000   \n",
       "\n",
       "              Age   Death_1yr  \n",
       "count  454.000000  454.000000  \n",
       "mean    62.777533    0.151982  \n",
       "std      8.449634    0.359400  \n",
       "min     37.000000    0.000000  \n",
       "25%     57.000000    0.000000  \n",
       "50%     62.000000    0.000000  \n",
       "75%     69.000000    0.000000  \n",
       "max     87.000000    1.000000  "
      ]
     },
     "execution_count": 4,
     "metadata": {},
     "output_type": "execute_result"
    }
   ],
   "source": [
    "df.describe()"
   ]
  },
  {
   "cell_type": "code",
   "execution_count": 5,
   "id": "44f3dc77-e152-462f-831a-d721fbffbc4a",
   "metadata": {},
   "outputs": [
    {
     "name": "stdout",
     "output_type": "stream",
     "text": [
      "Death: 69, Live: 385\n",
      "1 year death: 15.20% out of 454 patients\n"
     ]
    },
    {
     "data": {
      "text/html": [
       "<div>\n",
       "<style scoped>\n",
       "    .dataframe tbody tr th:only-of-type {\n",
       "        vertical-align: middle;\n",
       "    }\n",
       "\n",
       "    .dataframe tbody tr th {\n",
       "        vertical-align: top;\n",
       "    }\n",
       "\n",
       "    .dataframe thead th {\n",
       "        text-align: right;\n",
       "    }\n",
       "</style>\n",
       "<table border=\"1\" class=\"dataframe\">\n",
       "  <thead>\n",
       "    <tr style=\"text-align: right;\">\n",
       "      <th></th>\n",
       "      <th>Live 1yr Mean</th>\n",
       "      <th>Death 1yr Mean</th>\n",
       "    </tr>\n",
       "    <tr>\n",
       "      <th>Attribute</th>\n",
       "      <th></th>\n",
       "      <th></th>\n",
       "    </tr>\n",
       "  </thead>\n",
       "  <tbody>\n",
       "    <tr>\n",
       "      <th>FVC</th>\n",
       "      <td>3.304597</td>\n",
       "      <td>3.195072</td>\n",
       "    </tr>\n",
       "    <tr>\n",
       "      <th>FEV1</th>\n",
       "      <td>2.540805</td>\n",
       "      <td>2.383188</td>\n",
       "    </tr>\n",
       "    <tr>\n",
       "      <th>Performance</th>\n",
       "      <td>0.774026</td>\n",
       "      <td>0.913043</td>\n",
       "    </tr>\n",
       "    <tr>\n",
       "      <th>Pain</th>\n",
       "      <td>0.051948</td>\n",
       "      <td>0.101449</td>\n",
       "    </tr>\n",
       "    <tr>\n",
       "      <th>Haemoptysis</th>\n",
       "      <td>0.124675</td>\n",
       "      <td>0.202899</td>\n",
       "    </tr>\n",
       "    <tr>\n",
       "      <th>Dyspnoea</th>\n",
       "      <td>0.044156</td>\n",
       "      <td>0.115942</td>\n",
       "    </tr>\n",
       "    <tr>\n",
       "      <th>Cough</th>\n",
       "      <td>0.677922</td>\n",
       "      <td>0.797101</td>\n",
       "    </tr>\n",
       "    <tr>\n",
       "      <th>Weakness</th>\n",
       "      <td>0.158442</td>\n",
       "      <td>0.246377</td>\n",
       "    </tr>\n",
       "    <tr>\n",
       "      <th>Tumor_Size</th>\n",
       "      <td>1.683117</td>\n",
       "      <td>2.014493</td>\n",
       "    </tr>\n",
       "    <tr>\n",
       "      <th>Diabetes_Mellitus</th>\n",
       "      <td>0.062338</td>\n",
       "      <td>0.144928</td>\n",
       "    </tr>\n",
       "    <tr>\n",
       "      <th>MI_6mo</th>\n",
       "      <td>0.005195</td>\n",
       "      <td>0.000000</td>\n",
       "    </tr>\n",
       "    <tr>\n",
       "      <th>PAD</th>\n",
       "      <td>0.015584</td>\n",
       "      <td>0.028986</td>\n",
       "    </tr>\n",
       "    <tr>\n",
       "      <th>Smoking</th>\n",
       "      <td>0.815584</td>\n",
       "      <td>0.898551</td>\n",
       "    </tr>\n",
       "    <tr>\n",
       "      <th>Asthma</th>\n",
       "      <td>0.005195</td>\n",
       "      <td>0.000000</td>\n",
       "    </tr>\n",
       "    <tr>\n",
       "      <th>Age</th>\n",
       "      <td>62.677922</td>\n",
       "      <td>63.333333</td>\n",
       "    </tr>\n",
       "  </tbody>\n",
       "</table>\n",
       "</div>"
      ],
      "text/plain": [
       "                   Live 1yr Mean  Death 1yr Mean\n",
       "Attribute                                       \n",
       "FVC                     3.304597        3.195072\n",
       "FEV1                    2.540805        2.383188\n",
       "Performance             0.774026        0.913043\n",
       "Pain                    0.051948        0.101449\n",
       "Haemoptysis             0.124675        0.202899\n",
       "Dyspnoea                0.044156        0.115942\n",
       "Cough                   0.677922        0.797101\n",
       "Weakness                0.158442        0.246377\n",
       "Tumor_Size              1.683117        2.014493\n",
       "Diabetes_Mellitus       0.062338        0.144928\n",
       "MI_6mo                  0.005195        0.000000\n",
       "PAD                     0.015584        0.028986\n",
       "Smoking                 0.815584        0.898551\n",
       "Asthma                  0.005195        0.000000\n",
       "Age                    62.677922       63.333333"
      ]
     },
     "execution_count": 5,
     "metadata": {},
     "output_type": "execute_result"
    }
   ],
   "source": [
    "live = df[df['Death_1yr'] == 0]\n",
    "death = df[df['Death_1yr'] == 1]\n",
    "\n",
    "cond = ['FVC', 'FEV1', 'Performance', 'Pain', 'Haemoptysis', 'Dyspnoea', 'Cough', 'Weakness',\\\n",
    "        'Tumor_Size', 'Diabetes_Mellitus','MI_6mo', 'PAD', 'Smoking', 'Asthma', 'Age']\n",
    "\n",
    "l = [np.mean(live[c]) for c in cond]\n",
    "d = [np.mean(death[c]) for c in cond]\n",
    "\n",
    "ld = pd.DataFrame(data={'Attribute': cond, 'Live 1yr Mean': l, 'Death 1yr Mean': d})\n",
    "ld = ld.set_index('Attribute')\n",
    "\n",
    "print('Death: {:d}, Live: {:d}'.format(len(death), len(live)))\n",
    "print(\"1 year death: {:.2f}% out of 454 patients\".format(np.mean(df['Death_1yr'])*100))\n",
    "ld"
   ]
  },
  {
   "cell_type": "code",
   "execution_count": 6,
   "id": "a541cc8b-98db-4f36-80ff-d5ea27533e5e",
   "metadata": {},
   "outputs": [
    {
     "data": {
      "image/png": "[encoded data removed]",
      "text/plain": [
       "<Figure size 1200x1800 with 2 Axes>"
      ]
     },
     "metadata": {},
     "output_type": "display_data"
    }
   ],
   "source": [
    "# percentage difference in means of live vs death patients\n",
    "d = np.array(d)\n",
    "l = np.array(l)\n",
    "\n",
    "p_diff = (d-l)/l*100\n",
    "\n",
    "fig, axes = plt.subplots(2,1,figsize=(12,18))\n",
    "\n",
    "axes[0].bar(cond, p_diff)\n",
    "axes[0].set_title('Mean Difference % between Dead and Live 1yr', fontsize=18)\n",
    "axes[0].set_xticks(cond)\n",
    "axes[0].set_xticklabels(cond, rotation=90)\n",
    "axes[0].set_ylabel('Precent', fontsize=13)   \n",
    "\n",
    "# Count plot of true/false condition columns\n",
    "tf_col = ['Pain', 'Haemoptysis', 'Dyspnoea','Cough','Weakness','Diabetes_Mellitus','MI_6mo','PAD','Smoking','Asthma']\n",
    "tf_sum = [df[col].sum()/454 for col in tf_col]\n",
    "\n",
    "axes[1].bar(tf_col, tf_sum)\n",
    "axes[1].set_xticks(tf_col)\n",
    "axes[1].set_xticklabels(tf_col, rotation=90)\n",
    "axes[1].set_ylabel('Proportion of Total Patients', fontsize=13)\n",
    "axes[1].set_title('Proportion of Patient Conditions before Surgery', fontsize=18)\n",
    "\n",
    "\n",
    "plt.tight_layout()"
   ]
  },
  {
   "cell_type": "code",
   "execution_count": 7,
   "id": "0b1a0067-74f6-41c5-932c-6e883e63a54d",
   "metadata": {},
   "outputs": [
    {
     "data": {
      "image/png": "[encoded data removed]",
      "text/plain": [
       "<Figure size 1000x1500 with 3 Axes>"
      ]
     },
     "metadata": {},
     "output_type": "display_data"
    }
   ],
   "source": [
    "# Count plots of Diagnosis, Tumor Size, Performance with difference of live and death data\n",
    "\n",
    "fig, axes = plt.subplots(3,1,figsize=(10,15))\n",
    "\n",
    "sns.countplot(x='Diagnosis', hue='Death_1yr', data=df, palette='Blues', ax=axes[0]).set_title('Diagnosis')\n",
    "sns.countplot(x='Tumor_Size', hue='Death_1yr', data=df, palette='Blues', ax=axes[1]).set_title('Tumor Size')\n",
    "sns.countplot(x='Performance', hue='Death_1yr', data=df, palette='Blues', ax=axes[2]).set_title('Performance')\n",
    "\n",
    "plt.tight_layout()\n"
   ]
  },
  {
   "cell_type": "code",
   "execution_count": 8,
   "id": "86fd1d20-ba5b-4fdc-a54f-b1f985aaaf4a",
   "metadata": {},
   "outputs": [],
   "source": [
    "def permutation_sample(data1, data2):\n",
    "    \"\"\"\n",
    "    Generate a permutation sample from two data sets.\n",
    "    \"\"\"\n",
    "    data = np.concatenate((data1, data2))\n",
    "    permuted_data = np.random.permutation(data)\n",
    "    \n",
    "    perm_sample_1 = permuted_data[:len(data1)]\n",
    "    perm_sample_2 = permuted_data[len(data1):]\n",
    "    \n",
    "    return perm_sample_1, perm_sample_2"
   ]
  },
  {
   "cell_type": "code",
   "execution_count": 9,
   "id": "bfc85e28-66f3-4eac-92b4-f0e5dabcda68",
   "metadata": {},
   "outputs": [],
   "source": [
    "def draw_perm_reps(data_1, data_2, func, size=1):\n",
    "    \"\"\"Generate multiple permutation replicates.\"\"\"\n",
    "\n",
    "    perm_replicates = np.empty(size)\n",
    "\n",
    "    for i in range(size):\n",
    "        perm_sample_1, perm_sample_2 = permutation_sample(data_1, data_2)\n",
    "        perm_replicates[i] = func(perm_sample_1, perm_sample_2)\n",
    "\n",
    "    return perm_replicates\n",
    "\n",
    "def diff_of_means(data_1, data_2):\n",
    "    \"\"\"Difference in means of two arrays.\"\"\"\n",
    "    diff= np.mean(data_1) - np.mean(data_2)\n",
    "    return diff\n"
   ]
  },
  {
   "cell_type": "code",
   "execution_count": 10,
   "id": "e570198b-041a-4303-81a7-ae15c6024e95",
   "metadata": {},
   "outputs": [
    {
     "name": "stdout",
     "output_type": "stream",
     "text": [
      "[('FVC', 0.1705), ('FEV1', 0.0607), ('Performance', 0.0306), ('Pain', 0.097), ('Haemoptysis', 0.0637), ('Dyspnoea', 0.0238), ('Cough', 0.0279), ('Weakness', 0.0608), ('Tumor_Size', 0.0009), ('Diabetes_Mellitus', 0.023), ('MI_6mo', 0.7275), ('PAD', 0.3491), ('Smoking', 0.0586), ('Asthma', 0.7214), ('Age', 0.2704)]\n"
     ]
    }
   ],
   "source": [
    "# Hypothesis testing with Permutations of data\n",
    "\n",
    "condition = ['FVC', 'FEV1', 'Performance', 'Pain', 'Haemoptysis', 'Dyspnoea', 'Cough', 'Weakness',\n",
    "             'Tumor_Size', 'Diabetes_Mellitus', 'MI_6mo', 'PAD', 'Smoking', 'Asthma', 'Age']\n",
    "\n",
    "p_val = []\n",
    "\n",
    "for c in condition:\n",
    "    empirical_diff_means = diff_of_means(death[c],live[c])\n",
    "    perm_replicates = draw_perm_reps(death[c], live[c], diff_of_means, size=10000)\n",
    "    if empirical_diff_means > 0:\n",
    "        p = np.sum(perm_replicates >= empirical_diff_means) / len(perm_replicates)\n",
    "        p_val.append(p)\n",
    "    else:\n",
    "        p = np.sum(perm_replicates <= empirical_diff_means) / len(perm_replicates)\n",
    "        p_val.append(p)\n",
    "\n",
    "print(list(zip(condition, p_val)))\n"
   ]
  },
  {
   "cell_type": "code",
   "execution_count": 11,
   "id": "7532198e-2585-4d1f-ab88-1e35ff72318e",
   "metadata": {},
   "outputs": [
    {
     "name": "stdout",
     "output_type": "stream",
     "text": [
      "[('FVC', 0.1669), ('FEV1', 0.0581), ('Performance', 0.0269), ('Pain', 0.0925), ('Haemoptysis', 0.0648), ('Dyspnoea', 0.0228), ('Cough', 0.0335), ('Weakness', 0.0579), ('Tumor_Size', 0.0005), ('Diabetes_Mellitus', 0.0215), ('MI_6mo', 0.7106), ('PAD', 0.3501), ('Smoking', 0.0615), ('Asthma', 0.7118), ('Age', 0.2752)]\n"
     ]
    }
   ],
   "source": [
    "# Hypothesis testing with Permutations of data\n",
    "\n",
    "condition = ['FVC', 'FEV1', 'Performance', 'Pain', 'Haemoptysis', 'Dyspnoea', 'Cough', 'Weakness',\n",
    "             'Tumor_Size', 'Diabetes_Mellitus', 'MI_6mo', 'PAD', 'Smoking', 'Asthma', 'Age']\n",
    "\n",
    "p_val = []\n",
    "\n",
    "for c in condition:\n",
    "    empirical_diff_means = diff_of_means(death[c],live[c])\n",
    "    perm_replicates = draw_perm_reps(death[c], live[c], diff_of_means, size=10000)\n",
    "    if empirical_diff_means > 0:\n",
    "        p = np.sum(perm_replicates >= empirical_diff_means) / len(perm_replicates)\n",
    "    else:\n",
    "        p = np.sum(perm_replicates <= empirical_diff_means) / len(perm_replicates)\n",
    "    \n",
    "    p_val.append(p)\n",
    "\n",
    "print(list(zip(condition, p_val)))\n"
   ]
  },
  {
   "cell_type": "code",
   "execution_count": 12,
   "id": "1a4e96f3-04bc-4ac7-87bb-70d072fed01d",
   "metadata": {},
   "outputs": [
    {
     "data": {
      "image/png": "[encoded data removed]",
      "text/plain": [
       "<Figure size 1300x500 with 2 Axes>"
      ]
     },
     "metadata": {},
     "output_type": "display_data"
    }
   ],
   "source": [
    "# Scatter plots for FVC, FEV1, Age size (columns)\n",
    "\n",
    "fig, axes = plt.subplots(1,2, figsize=(13,5))\n",
    "\n",
    "axes[0].plot(df.FVC, df.FEV1, linestyle='none', marker='.')\n",
    "axes[0].set_xlabel('FVC', fontsize=13)\n",
    "axes[0].set_ylabel('FEV1', fontsize=13)\n",
    "\n",
    "axes[1].plot(df.Age, df.FEV1, linestyle='none', marker='.')\n",
    "axes[1].set_title('Age vs FEV1', fontsize=16)\n",
    "axes[1].set_xlabel('Age', fontsize=13)\n",
    "axes[1].set_ylabel('FEV1', fontsize=13)\n",
    "\n",
    "# Scatter plot layout\n",
    "plt.tight_layout()\n"
   ]
  },
  {
   "cell_type": "code",
   "execution_count": 13,
   "id": "f7fd84a1-e026-41ff-8e1f-69ab009d32b9",
   "metadata": {},
   "outputs": [
    {
     "data": {
      "text/plain": [
       "0.8875452733829"
      ]
     },
     "execution_count": 13,
     "metadata": {},
     "output_type": "execute_result"
    }
   ],
   "source": [
    "np.corrcoef(df.FVC, df.FEV1)[0,1]"
   ]
  },
  {
   "cell_type": "code",
   "execution_count": 14,
   "id": "281248d1-54d4-49a1-a765-9845dd4fe49c",
   "metadata": {},
   "outputs": [
    {
     "data": {
      "text/plain": [
       "-0.299429919660491"
      ]
     },
     "execution_count": 14,
     "metadata": {},
     "output_type": "execute_result"
    }
   ],
   "source": [
    "np.corrcoef(df.Age, df.FVC)[0,1]"
   ]
  },
  {
   "cell_type": "code",
   "execution_count": 15,
   "id": "8854a5a7-ac58-4f5c-a18f-fac510d6d503",
   "metadata": {},
   "outputs": [
    {
     "data": {
      "text/plain": [
       "-0.3096166273079891"
      ]
     },
     "execution_count": 15,
     "metadata": {},
     "output_type": "execute_result"
    }
   ],
   "source": [
    "np.corrcoef(df.Age, df.FEV1)[0,1]"
   ]
  },
  {
   "cell_type": "code",
   "execution_count": 16,
   "id": "26f167dd-1ce8-45f2-853e-65b321de0c1d",
   "metadata": {},
   "outputs": [],
   "source": [
    "def ecdf(data):\n",
    "    \"\"\"Compute ECDF for a one-dimensional array of measurements.\"\"\"\n",
    "    \n",
    "    n = len(data)\n",
    "    x = np.sort(data)\n",
    "    y = np.arange(1, n+1) / n\n",
    "    \n",
    "    return x, y\n"
   ]
  },
  {
   "cell_type": "code",
   "execution_count": 17,
   "id": "26b70551-39bf-4a46-83cb-3d09db8a1b61",
   "metadata": {},
   "outputs": [
    {
     "data": {
      "image/png": "[encoded data removed]",
      "text/plain": [
       "<Figure size 1300x500 with 2 Axes>"
      ]
     },
     "metadata": {},
     "output_type": "display_data"
    }
   ],
   "source": [
    "\n",
    "x_fvc, y_fvc = ecdf(df.FVC)\n",
    "x_fev1, y_fev1 = ecdf(df.FEV1)\n",
    "x_age, y_age =ecdf(df.Age)\n",
    "\n",
    "fig, axes = plt.subplots(1,2,figsize=(13,5))\n",
    "\n",
    "axes[0].plot(x_fvc,y_fvc, marker='.', linestyle='none', label='FVC')\n",
    "axes[0].plot(x_fev1,y_fev1, marker='.', linestyle='none', label='FEV1')\n",
    "\n",
    "axes[0].set_xlabel('Numerical Value', fontsize=13)\n",
    "axes[0].set_ylabel('ECDF', fontsize=13)\n",
    "axes[0].legend(loc='upper left')\n",
    "axes[0].set_title('ECDF of FVC & FEV1', fontsize=16)\n",
    "\n",
    "axes[1].plot(x_age,y_age,marker='.', linestyle='none', label='Age')\n",
    "axes[1].set_xlabel('Years Old', fontsize=13)\n",
    "axes[1].set_ylabel('ECDF', fontsize=16)\n",
    "axes[1].legend(loc='upper left')\n",
    "axes[1].set_title('ECDF of Age', fontsize=16)\n",
    "plt.tight_layout()\n"
   ]
  },
  {
   "cell_type": "code",
   "execution_count": 18,
   "id": "4a44c9d7-4086-4023-a281-9b95d2440cc6",
   "metadata": {},
   "outputs": [
    {
     "data": {
      "text/plain": [
       "(454, 17)"
      ]
     },
     "execution_count": 18,
     "metadata": {},
     "output_type": "execute_result"
    }
   ],
   "source": [
    "#shape of csv data\n",
    "df.shape"
   ]
  },
  {
   "cell_type": "code",
   "execution_count": 19,
   "id": "8a7a0004-62ba-46b3-a05d-6e7200a215fc",
   "metadata": {},
   "outputs": [
    {
     "name": "stdout",
     "output_type": "stream",
     "text": [
      "<class 'pandas.core.frame.DataFrame'>\n",
      "RangeIndex: 454 entries, 0 to 453\n",
      "Data columns (total 17 columns):\n",
      " #   Column             Non-Null Count  Dtype  \n",
      "---  ------             --------------  -----  \n",
      " 0   Diagnosis          454 non-null    int64  \n",
      " 1   FVC                454 non-null    float64\n",
      " 2   FEV1               454 non-null    float64\n",
      " 3   Performance        454 non-null    int64  \n",
      " 4   Pain               454 non-null    int64  \n",
      " 5   Haemoptysis        454 non-null    int64  \n",
      " 6   Dyspnoea           454 non-null    int64  \n",
      " 7   Cough              454 non-null    int64  \n",
      " 8   Weakness           454 non-null    int64  \n",
      " 9   Tumor_Size         454 non-null    int64  \n",
      " 10  Diabetes_Mellitus  454 non-null    int64  \n",
      " 11  MI_6mo             454 non-null    int64  \n",
      " 12  PAD                454 non-null    int64  \n",
      " 13  Smoking            454 non-null    int64  \n",
      " 14  Asthma             454 non-null    int64  \n",
      " 15  Age                454 non-null    int64  \n",
      " 16  Death_1yr          454 non-null    int64  \n",
      "dtypes: float64(2), int64(15)\n",
      "memory usage: 60.4 KB\n"
     ]
    }
   ],
   "source": [
    "df.info()"
   ]
  },
  {
   "cell_type": "code",
   "execution_count": 20,
   "id": "73a66544-35ee-4174-b573-13550ebec0f3",
   "metadata": {},
   "outputs": [
    {
     "data": {
      "text/plain": [
       "Diagnosis            0\n",
       "FVC                  0\n",
       "FEV1                 0\n",
       "Performance          0\n",
       "Pain                 0\n",
       "Haemoptysis          0\n",
       "Dyspnoea             0\n",
       "Cough                0\n",
       "Weakness             0\n",
       "Tumor_Size           0\n",
       "Diabetes_Mellitus    0\n",
       "MI_6mo               0\n",
       "PAD                  0\n",
       "Smoking              0\n",
       "Asthma               0\n",
       "Age                  0\n",
       "Death_1yr            0\n",
       "dtype: int64"
      ]
     },
     "execution_count": 20,
     "metadata": {},
     "output_type": "execute_result"
    }
   ],
   "source": [
    "#finding null value\n",
    "df.isnull().sum()"
   ]
  },
  {
   "cell_type": "code",
   "execution_count": 21,
   "id": "1b9128f8-6c57-40af-983c-4cba99fcb04d",
   "metadata": {},
   "outputs": [],
   "source": [
    "df.drop(['FVC'], axis=1, inplace=True)"
   ]
  },
  {
   "cell_type": "code",
   "execution_count": 22,
   "id": "20bc2005-9db1-416e-ba4b-2e864e4e712b",
   "metadata": {},
   "outputs": [
    {
     "data": {
      "text/plain": [
       "Index(['Diagnosis', 'FEV1', 'Performance', 'Pain', 'Haemoptysis', 'Dyspnoea',\n",
       "       'Cough', 'Weakness', 'Tumor_Size', 'Diabetes_Mellitus', 'MI_6mo', 'PAD',\n",
       "       'Smoking', 'Asthma', 'Age', 'Death_1yr'],\n",
       "      dtype='object')"
      ]
     },
     "execution_count": 22,
     "metadata": {},
     "output_type": "execute_result"
    }
   ],
   "source": [
    "df.columns"
   ]
  },
  {
   "cell_type": "code",
   "execution_count": 23,
   "id": "a2b006b2-e230-4ed3-887c-6201869e6702",
   "metadata": {},
   "outputs": [],
   "source": [
    "x = df.iloc[:, 0:15].values\n",
    "y = df.iloc[:, 15:16].values"
   ]
  },
  {
   "cell_type": "code",
   "execution_count": 24,
   "id": "1e21fd21-9bae-4b92-9a70-e6e600504f7b",
   "metadata": {},
   "outputs": [],
   "source": [
    "x_train, x_test, y_train, y_test = train_test_split(x, y, test_size=0.2, random_state=0)"
   ]
  },
  {
   "cell_type": "code",
   "execution_count": 25,
   "id": "1c386806-5a87-42e6-9d62-1e1657ad6d72",
   "metadata": {},
   "outputs": [
    {
     "name": "stdout",
     "output_type": "stream",
     "text": [
      "Shape of x_train (363, 15)\n",
      "Shape of y_train (363, 1)\n",
      "Shape of x_test (91, 15)\n",
      "Shape of y_test (91, 1)\n"
     ]
    }
   ],
   "source": [
    "print('Shape of x_train {}'.format(x_train.shape))\n",
    "print('Shape of y_train {}'.format(y_train.shape))\n",
    "print('Shape of x_test {}'.format(x_test.shape))\n",
    "print('Shape of y_test {}'.format(y_test.shape))"
   ]
  },
  {
   "cell_type": "code",
   "execution_count": 26,
   "id": "1eeb3173-7d88-4937-96a8-23ec1072f7a3",
   "metadata": {},
   "outputs": [],
   "source": [
    "\n",
    "# standard scaling\n",
    "\n",
    "sc = StandardScaler()\n",
    "# Fit the scaler to x_train and transform both x_train and x_test\n",
    "x_train = sc.fit_transform(x_train)\n",
    "x_test = sc.fit_transform(x_test)\n"
   ]
  },
  {
   "cell_type": "code",
   "execution_count": 27,
   "id": "4f5ab2b2-d6f0-42e7-86e6-f4a3d3f879ae",
   "metadata": {},
   "outputs": [],
   "source": [
    "\n",
    "#Decision Tree model\n",
    "def decisionTree(x_train, x_test, y_train, y_test):\n",
    "    dt = DecisionTreeClassifier()\n",
    "    dt.fit(x_train, y_train)\n",
    "    yPred = dt.predict(x_test)\n",
    "    print(\"***DecisionTreeClassifier***\")\n",
    "    print('Confusion matrix')\n",
    "    print(confusion_matrix(y_test,yPred))\n",
    "    print(\"Classification report\")\n",
    "    print(classification_report(y_test,yPred))\n"
   ]
  },
  {
   "cell_type": "code",
   "execution_count": 28,
   "id": "cefa6b26-ed88-4b28-89f4-5f66f9441dd9",
   "metadata": {},
   "outputs": [],
   "source": [
    "# Random Forest\n",
    "def randomForest(x_train, x_test, y_train, y_test):\n",
    "    rf = RandomForestClassifier()\n",
    "    rf.fit(x_train, y_train)  # Apply .ravel() here\n",
    "    yPred = rf.predict(x_test)\n",
    "    print(\"***RandomForestClassifier***\")\n",
    "    print('Confusion matrix')\n",
    "    print(confusion_matrix(y_test,yPred))\n",
    "    print('Classification report')\n",
    "    print(classification_report(y_test,yPred))\n",
    "\n"
   ]
  },
  {
   "cell_type": "code",
   "execution_count": 29,
   "id": "0d0cdff5-683a-414e-b894-9a52f095fc0d",
   "metadata": {},
   "outputs": [],
   "source": [
    "#KNN\n",
    "def KNN(x_train, x_test, y_train, y_test):\n",
    "    knn = KNeighborsClassifier()\n",
    "    knn.fit(x_train, y_train)\n",
    "    yPred = knn.predict(x_test)\n",
    "    print('***KNeighborsClassifier***')\n",
    "    print('Confusion matrix')\n",
    "    print(confusion_matrix(y_test, yPred))\n",
    "    print('Classification report')\n",
    "    print(classification_report(y_test, yPred))\n"
   ]
  },
  {
   "cell_type": "code",
   "execution_count": 30,
   "id": "9102d42a-95db-4780-9b37-d4eebf50e783",
   "metadata": {},
   "outputs": [],
   "source": [
    "def xgboost(x_train, x_test, y_train, y_test):\n",
    "    # Fit GradientBoostingClassifier\n",
    "    xg = GradientBoostingClassifier()\n",
    "    xg.fit(x_train, y_train)\n",
    "    # Predict on test set\n",
    "    yPred = xg.predict(x_test)\n",
    "  # Print model info & evaluation metrics\n",
    "    print('***GradientBoostingClassifier***')\n",
    "    print('Confusion matrix')\n",
    "    print(confusion_matrix(y_test, yPred))\n",
    "    print('Classification report')\n",
    "    print(classification_report(y_test, yPred))\n"
   ]
  },
  {
   "cell_type": "code",
   "execution_count": 31,
   "id": "be91e788-158d-4944-a835-ca8a823fb539",
   "metadata": {},
   "outputs": [],
   "source": [
    "#compare Model\n",
    "def compareModel(x_train, x_test, y_train, y_test):\n",
    "    decisionTree(x_train, x_test, y_train, y_test)\n",
    "    print('-'*100)\n",
    "    randomForest(x_train, x_test, y_train, y_test)\n",
    "    print('-'*100)\n",
    "    KNN(x_train, x_test, y_train, y_test)\n",
    "    print('-'*100)\n",
    "    xgboost(x_train, x_test, y_train, y_test)"
   ]
  },
  {
   "cell_type": "code",
   "execution_count": 32,
   "id": "7bcdcf30-9d8c-4ecd-8ae7-15b9e75c3725",
   "metadata": {
    "scrolled": true
   },
   "outputs": [
    {
     "name": "stdout",
     "output_type": "stream",
     "text": [
      "***DecisionTreeClassifier***\n",
      "Confusion matrix\n",
      "[[61 13]\n",
      " [13  4]]\n",
      "Classification report\n",
      "              precision    recall  f1-score   support\n",
      "\n",
      "           0       0.82      0.82      0.82        74\n",
      "           1       0.24      0.24      0.24        17\n",
      "\n",
      "    accuracy                           0.71        91\n",
      "   macro avg       0.53      0.53      0.53        91\n",
      "weighted avg       0.71      0.71      0.71        91\n",
      "\n",
      "----------------------------------------------------------------------------------------------------\n"
     ]
    },
    {
     "name": "stderr",
     "output_type": "stream",
     "text": [
      "C:\\Users\\cc\\anaconda3\\Lib\\site-packages\\sklearn\\base.py:1473: DataConversionWarning: A column-vector y was passed when a 1d array was expected. Please change the shape of y to (n_samples,), for example using ravel().\n",
      "  return fit_method(estimator, *args, **kwargs)\n"
     ]
    },
    {
     "name": "stdout",
     "output_type": "stream",
     "text": [
      "***RandomForestClassifier***\n",
      "Confusion matrix\n",
      "[[73  1]\n",
      " [17  0]]\n",
      "Classification report\n",
      "              precision    recall  f1-score   support\n",
      "\n",
      "           0       0.81      0.99      0.89        74\n",
      "           1       0.00      0.00      0.00        17\n",
      "\n",
      "    accuracy                           0.80        91\n",
      "   macro avg       0.41      0.49      0.45        91\n",
      "weighted avg       0.66      0.80      0.72        91\n",
      "\n",
      "----------------------------------------------------------------------------------------------------\n",
      "***KNeighborsClassifier***\n",
      "Confusion matrix\n",
      "[[72  2]\n",
      " [16  1]]\n",
      "Classification report\n",
      "              precision    recall  f1-score   support\n",
      "\n",
      "           0       0.82      0.97      0.89        74\n",
      "           1       0.33      0.06      0.10        17\n",
      "\n",
      "    accuracy                           0.80        91\n",
      "   macro avg       0.58      0.52      0.49        91\n",
      "weighted avg       0.73      0.80      0.74        91\n",
      "\n",
      "----------------------------------------------------------------------------------------------------\n"
     ]
    },
    {
     "name": "stderr",
     "output_type": "stream",
     "text": [
      "C:\\Users\\cc\\anaconda3\\Lib\\site-packages\\sklearn\\neighbors\\_classification.py:238: DataConversionWarning: A column-vector y was passed when a 1d array was expected. Please change the shape of y to (n_samples,), for example using ravel().\n",
      "  return self._fit(X, y)\n",
      "C:\\Users\\cc\\anaconda3\\Lib\\site-packages\\sklearn\\preprocessing\\_label.py:114: DataConversionWarning: A column-vector y was passed when a 1d array was expected. Please change the shape of y to (n_samples, ), for example using ravel().\n",
      "  y = column_or_1d(y, warn=True)\n"
     ]
    },
    {
     "name": "stdout",
     "output_type": "stream",
     "text": [
      "***GradientBoostingClassifier***\n",
      "Confusion matrix\n",
      "[[70  4]\n",
      " [17  0]]\n",
      "Classification report\n",
      "              precision    recall  f1-score   support\n",
      "\n",
      "           0       0.80      0.95      0.87        74\n",
      "           1       0.00      0.00      0.00        17\n",
      "\n",
      "    accuracy                           0.77        91\n",
      "   macro avg       0.40      0.47      0.43        91\n",
      "weighted avg       0.65      0.77      0.71        91\n",
      "\n"
     ]
    }
   ],
   "source": [
    " compareModel(x_train, x_test, y_train, y_test)\n"
   ]
  },
  {
   "cell_type": "code",
   "execution_count": 33,
   "id": "91405a5d-4149-4294-9109-a5d0cca97aae",
   "metadata": {},
   "outputs": [],
   "source": [
    "from sklearn.metrics import accuracy_score, f1_score"
   ]
  },
  {
   "cell_type": "code",
   "execution_count": 34,
   "id": "28529f72-49d7-4bfd-81ad-52df5db67189",
   "metadata": {},
   "outputs": [
    {
     "name": "stderr",
     "output_type": "stream",
     "text": [
      "C:\\Users\\cc\\anaconda3\\Lib\\site-packages\\sklearn\\base.py:1473: DataConversionWarning: A column-vector y was passed when a 1d array was expected. Please change the shape of y to (n_samples,), for example using ravel().\n",
      "  return fit_method(estimator, *args, **kwargs)\n"
     ]
    }
   ],
   "source": [
    "\n",
    "# Random forest model is selected\n",
    "rf = RandomForestClassifier()\n",
    "rf.fit(x_train, y_train)\n",
    "yPred = rf.predict(x_test)"
   ]
  },
  {
   "cell_type": "code",
   "execution_count": 35,
   "id": "b4a20e9c-44bf-4d11-9e0d-1bd3254bada9",
   "metadata": {},
   "outputs": [
    {
     "data": {
      "text/plain": [
       "0.8640194161666553"
      ]
     },
     "execution_count": 35,
     "metadata": {},
     "output_type": "execute_result"
    }
   ],
   "source": [
    "(f1_score(yPred, y_test, average=\"weighted\"))"
   ]
  },
  {
   "cell_type": "code",
   "execution_count": 36,
   "id": "2e7a8faa-4128-4414-85e2-501eaab6e7de",
   "metadata": {},
   "outputs": [
    {
     "name": "stderr",
     "output_type": "stream",
     "text": [
      "C:\\Users\\cc\\anaconda3\\Lib\\site-packages\\sklearn\\base.py:1473: DataConversionWarning: A column-vector y was passed when a 1d array was expected. Please change the shape of y to (n_samples,), for example using ravel().\n",
      "  return fit_method(estimator, *args, **kwargs)\n",
      "C:\\Users\\cc\\anaconda3\\Lib\\site-packages\\sklearn\\base.py:1473: DataConversionWarning: A column-vector y was passed when a 1d array was expected. Please change the shape of y to (n_samples,), for example using ravel().\n",
      "  return fit_method(estimator, *args, **kwargs)\n",
      "C:\\Users\\cc\\anaconda3\\Lib\\site-packages\\sklearn\\base.py:1473: DataConversionWarning: A column-vector y was passed when a 1d array was expected. Please change the shape of y to (n_samples,), for example using ravel().\n",
      "  return fit_method(estimator, *args, **kwargs)\n",
      "C:\\Users\\cc\\anaconda3\\Lib\\site-packages\\sklearn\\base.py:1473: DataConversionWarning: A column-vector y was passed when a 1d array was expected. Please change the shape of y to (n_samples,), for example using ravel().\n",
      "  return fit_method(estimator, *args, **kwargs)\n",
      "C:\\Users\\cc\\anaconda3\\Lib\\site-packages\\sklearn\\base.py:1473: DataConversionWarning: A column-vector y was passed when a 1d array was expected. Please change the shape of y to (n_samples,), for example using ravel().\n",
      "  return fit_method(estimator, *args, **kwargs)\n"
     ]
    }
   ],
   "source": [
    "cv = cross_val_score(rf, x, y, cv=5)"
   ]
  },
  {
   "cell_type": "code",
   "execution_count": 37,
   "id": "f9196579-6f60-46e6-8193-82df06cb26ab",
   "metadata": {},
   "outputs": [
    {
     "data": {
      "text/plain": [
       "0.8502319902319903"
      ]
     },
     "execution_count": 37,
     "metadata": {},
     "output_type": "execute_result"
    }
   ],
   "source": [
    "np.mean(cv)"
   ]
  },
  {
   "cell_type": "code",
   "execution_count": 38,
   "id": "1d24c303-40f6-4f14-ab32-a36659be429a",
   "metadata": {},
   "outputs": [],
   "source": [
    "import pickle\n",
    "pickle.dump(rf, open('model2.pkl', 'wb'))"
   ]
  },
  {
   "cell_type": "code",
   "execution_count": 39,
   "id": "8f48167d-b280-4dc7-bd31-512165e6cfa0",
   "metadata": {},
   "outputs": [
    {
     "name": "stdout",
     "output_type": "stream",
     "text": [
      "[1]\n"
     ]
    }
   ],
   "source": [
    "input_data=[[2,2.16,1,0,0,0,1,1,4,0,0,0,1,0,60]]\n",
    "prediction= rf.predict(input_data)\n",
    "print(prediction)"
   ]
  },
  {
   "cell_type": "code",
   "execution_count": 40,
   "id": "ce8bda1a-b0ea-4ce8-96e8-dca66288860b",
   "metadata": {},
   "outputs": [
    {
     "name": "stdout",
     "output_type": "stream",
     "text": [
      "[0]\n"
     ]
    }
   ],
   "source": [
    "input_data=[[3,0.96,2,0,1,0,1,1,1,0,0,0,1,0,73]]\n",
    "prediction= rf.predict(input_data)\n",
    "print(prediction)"
   ]
  },
  {
   "cell_type": "code",
   "execution_count": null,
   "id": "a4be40bc-eb7f-4051-a23b-bc65449c4c05",
   "metadata": {},
   "outputs": [],
   "source": []
  },
  {
   "cell_type": "code",
   "execution_count": null,
   "id": "15ed94b7-8d33-4c72-a701-f7d67f8e0279",
   "metadata": {},
   "outputs": [],
   "source": []
  },
  {
   "cell_type": "code",
   "execution_count": null,
   "id": "c4cac5dd-c613-49a2-a3fa-6642e662d9a1",
   "metadata": {},
   "outputs": [],
   "source": []
  },
  {
   "cell_type": "code",
   "execution_count": null,
   "id": "cae7041c-1060-4c39-9de4-77535b714cfb",
   "metadata": {},
   "outputs": [],
   "source": []
  },
  {
   "cell_type": "code",
   "execution_count": null,
   "id": "c5d64c15-d96e-406c-9525-aa662bf2c59d",
   "metadata": {},
   "outputs": [],
   "source": []
  },
  {
   "cell_type": "code",
   "execution_count": null,
   "id": "331d7323-e066-44a0-b227-12113ba66194",
   "metadata": {},
   "outputs": [],
   "source": []
  },
  {
   "cell_type": "code",
   "execution_count": null,
   "id": "f88dc8bd-fac3-4b35-a3e4-9b343b40fa87",
   "metadata": {},
   "outputs": [],
   "source": []
  },
  {
   "cell_type": "code",
   "execution_count": null,
   "id": "e990c758-495e-456d-8088-d191533fe3c5",
   "metadata": {},
   "outputs": [],
   "source": []
  },
  {
   "cell_type": "code",
   "execution_count": null,
   "id": "382441ab-4a6d-45d1-91ef-3fa48828b5fa",
   "metadata": {},
   "outputs": [],
   "source": []
  },
  {
   "cell_type": "code",
   "execution_count": null,
   "id": "0d74c728-4ba5-4b4b-b2bc-3873bef1e4d0",
   "metadata": {},
   "outputs": [],
   "source": []
  },
  {
   "cell_type": "code",
   "execution_count": null,
   "id": "a700c925-0a99-4399-b8a8-822731d85041",
   "metadata": {},
   "outputs": [],
   "source": []
  },
  {
   "cell_type": "code",
   "execution_count": null,
   "id": "9ad04c7f-a48f-4bab-aab2-214f68bed1d6",
   "metadata": {},
   "outputs": [],
   "source": []
  },
  {
   "cell_type": "code",
   "execution_count": null,
   "id": "208210f3-931a-4a5a-ada2-198a5c161029",
   "metadata": {},
   "outputs": [],
   "source": []
  },
  {
   "cell_type": "code",
   "execution_count": null,
   "id": "cabb78c6-fdb9-40c9-b276-5d07659e5ecb",
   "metadata": {},
   "outputs": [],
   "source": []
  },
  {
   "cell_type": "code",
   "execution_count": null,
   "id": "0379c5cc-8507-4f3b-a8e4-e2efbbfd7ecb",
   "metadata": {},
   "outputs": [],
   "source": []
  },
  {
   "cell_type": "code",
   "execution_count": null,
   "id": "3c04452e-b56f-4e24-adf4-1be08ec22775",
   "metadata": {},
   "outputs": [],
   "source": []
  },
  {
   "cell_type": "code",
   "execution_count": null,
   "id": "af1d0fb2-8b15-4e47-8d1e-c0c665bcd9ab",
   "metadata": {},
   "outputs": [],
   "source": []
  },
  {
   "cell_type": "code",
   "execution_count": null,
   "id": "f26953d5-b98f-44d6-923d-e83647c2a8b1",
   "metadata": {},
   "outputs": [],
   "source": []
  },
  {
   "cell_type": "code",
   "execution_count": null,
   "id": "27ddde92-20f3-4e34-bf4b-f50b2dc7791e",
   "metadata": {},
   "outputs": [],
   "source": []
  },
  {
   "cell_type": "code",
   "execution_count": null,
   "id": "521293ab-eb6b-4d23-8dd7-49e3580e9b7e",
   "metadata": {},
   "outputs": [],
   "source": []
  },
  {
   "cell_type": "code",
   "execution_count": null,
   "id": "9d508480-0018-432a-9b16-478580f2f32e",
   "metadata": {},
   "outputs": [],
   "source": []
  },
  {
   "cell_type": "code",
   "execution_count": null,
   "id": "62ba19c4-45ed-4569-8c98-8c402dae3007",
   "metadata": {},
   "outputs": [],
   "source": []
  }
 ],
 "metadata": {
  "kernelspec": {
   "display_name": "Python 3 (ipykernel)",
   "language": "python",
   "name": "python3"
  },
  "language_info": {
   "codemirror_mode": {
    "name": "ipython",
    "version": 3
   },
   "file_extension": ".py",
   "mimetype": "text/x-python",
   "name": "python",
   "nbconvert_exporter": "python",
   "pygments_lexer": "ipython3",
   "version": "3.11.7"
  }
 },
 "nbformat": 4,
 "nbformat_minor": 5
}
